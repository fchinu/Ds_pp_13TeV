{
 "cells": [
  {
   "cell_type": "code",
   "execution_count": 1,
   "metadata": {},
   "outputs": [],
   "source": [
    "import pandas as pd\n",
    "import numpy as np\n",
    "import matplotlib.pyplot as plt\n",
    "import uproot"
   ]
  },
  {
   "cell_type": "code",
   "execution_count": 2,
   "metadata": {},
   "outputs": [],
   "source": [
    "df = pd.read_parquet(\"/home/fchinu/Run3/Ds_pp_13TeV/Datasets/Ds_pp_run3_ml/MC/Train211450/LHC24d3a_PromptDs.parquet\")"
   ]
  },
  {
   "cell_type": "code",
   "execution_count": 3,
   "metadata": {},
   "outputs": [
    {
     "name": "stdout",
     "output_type": "stream",
     "text": [
      "Index(['fPtProng0', 'fPtProng1', 'fPtProng2', 'fImpactParameter0',\n",
      "       'fImpactParameter1', 'fImpactParameter2', 'fNSigTpcPi0', 'fNSigTpcKa0',\n",
      "       'fNSigTofPi0', 'fNSigTofKa0', 'fNSigTpcTofPi0', 'fNSigTpcTofKa0',\n",
      "       'fNSigTpcPi1', 'fNSigTpcKa1', 'fNSigTofPi1', 'fNSigTofKa1',\n",
      "       'fNSigTpcTofPi1', 'fNSigTpcTofKa1', 'fNSigTpcPi2', 'fNSigTpcKa2',\n",
      "       'fNSigTofPi2', 'fNSigTofKa2', 'fNSigTpcTofPi2', 'fNSigTpcTofKa2',\n",
      "       'fIsSelDsToKKPi', 'fIsSelDsToPiKK', 'fM', 'fPt', 'fEta', 'fPhi', 'fY',\n",
      "       'fDecayLength', 'fDecayLengthXY', 'fDecayLengthNormalised',\n",
      "       'fDecayLengthXYNormalised', 'fCpa', 'fCpaXY', 'fMaxNormalisedDeltaIP',\n",
      "       'fImpactParameterXY', 'fDeltaMassPhi', 'fAbsCos3PiK', 'fChi2PCA',\n",
      "       'fFlagMcMatchRec', 'fOriginMcRec', 'fFlagMcDecayChanRec', 'fSign'],\n",
      "      dtype='object')\n",
      "75805\n"
     ]
    }
   ],
   "source": [
    "print(df.columns)\n",
    "print(len(df))"
   ]
  },
  {
   "cell_type": "code",
   "execution_count": 9,
   "metadata": {},
   "outputs": [],
   "source": [
    "df = pd.read_parquet(\"/home/fchinu/Run3/Ds_pp_13TeV/Datasets/Ds_pp_run3_ml/Train165702/Merged_LHC22b1b_Train165702_DplusPrompt.parquet\")"
   ]
  },
  {
   "cell_type": "code",
   "execution_count": 10,
   "metadata": {},
   "outputs": [
    {
     "name": "stdout",
     "output_type": "stream",
     "text": [
      "Index(['fPtProng0', 'fPtProng1', 'fPtProng2', 'fImpactParameter0',\n",
      "       'fImpactParameter1', 'fImpactParameter2', 'fNSigTpcPi0', 'fNSigTpcKa0',\n",
      "       'fNSigTofPi0', 'fNSigTofKa0', 'fNSigTpcTofPi0', 'fNSigTpcTofKa0',\n",
      "       'fNSigTpcPi1', 'fNSigTpcKa1', 'fNSigTofPi1', 'fNSigTofKa1',\n",
      "       'fNSigTpcTofPi1', 'fNSigTpcTofKa1', 'fNSigTpcPi2', 'fNSigTpcKa2',\n",
      "       'fNSigTofPi2', 'fNSigTofKa2', 'fNSigTpcTofPi2', 'fNSigTpcTofKa2',\n",
      "       'fIsSelDsToKKPi', 'fIsSelDsToPiKK', 'fM', 'fPt', 'fEta', 'fPhi', 'fY',\n",
      "       'fDecayLength', 'fDecayLengthXY', 'fDecayLengthNormalised',\n",
      "       'fDecayLengthXYNormalised', 'fCpa', 'fCpaXY', 'fMaxNormalisedDeltaIP',\n",
      "       'fImpactParameterXY', 'fDeltaMassPhi', 'fAbsCos3PiK', 'fChi2PCA',\n",
      "       'fFlagMcMatchRec', 'fOriginMcRec', 'fFlagMcDecayChanRec'],\n",
      "      dtype='object')\n",
      "48079\n"
     ]
    },
    {
     "ename": "",
     "evalue": "",
     "output_type": "error",
     "traceback": [
      "\u001b[1;31mThe Kernel crashed while executing code in the the current cell or a previous cell. Please review the code in the cell(s) to identify a possible cause of the failure. Click <a href='https://aka.ms/vscodeJupyterKernelCrash'>here</a> for more info. View Jupyter <a href='command:jupyter.viewOutput'>log</a> for further details."
     ]
    }
   ],
   "source": [
    "print(df.columns)\n",
    "print(len(df))"
   ]
  },
  {
   "cell_type": "code",
   "execution_count": 4,
   "metadata": {},
   "outputs": [
    {
     "data": {
      "text/plain": [
       "array([3], dtype=int8)"
      ]
     },
     "execution_count": 4,
     "metadata": {},
     "output_type": "execute_result"
    }
   ],
   "source": [
    "df[\"fFlagMcDecayChanRec\"].unique()"
   ]
  },
  {
   "cell_type": "code",
   "execution_count": 4,
   "metadata": {},
   "outputs": [
    {
     "data": {
      "text/plain": [
       "<Axes: >"
      ]
     },
     "execution_count": 4,
     "metadata": {},
     "output_type": "execute_result"
    },
    {
     "data": {
      "image/png": "[encoded data removed]",
      "text/plain": [
       "<Figure size 640x480 with 1 Axes>"
      ]
     },
     "metadata": {},
     "output_type": "display_data"
    }
   ],
   "source": [
    "dfsel = df #.query(\"abs(fFlagMcDecayChanRec) == 3\")\n",
    "dfsel[\"fM\"].hist(bins=100, range=(1.8, 2.2), histtype=\"step\", label=\"Kaon\")"
   ]
  },
  {
   "cell_type": "code",
   "execution_count": 6,
   "metadata": {},
   "outputs": [
    {
     "name": "stdout",
     "output_type": "stream",
     "text": [
      "38463\n"
     ]
    }
   ],
   "source": [
    "print(len(dfsel))"
   ]
  },
  {
   "cell_type": "code",
   "execution_count": 7,
   "metadata": {},
   "outputs": [
    {
     "data": {
      "text/plain": [
       "Series([], Name: fFlagMcMatchRec, dtype: int8)"
      ]
     },
     "execution_count": 7,
     "metadata": {},
     "output_type": "execute_result"
    }
   ],
   "source": [
    "df.query(\"abs(fFlagMcDecayChanRec) == 2\")[\"fFlagMcMatchRec\"]"
   ]
  },
  {
   "cell_type": "code",
   "execution_count": null,
   "metadata": {},
   "outputs": [],
   "source": []
  }
 ],
 "metadata": {
  "kernelspec": {
   "display_name": "ml",
   "language": "python",
   "name": "ml"
  },
  "language_info": {
   "codemirror_mode": {
    "name": "ipython",
    "version": 3
   },
   "file_extension": ".py",
   "mimetype": "text/x-python",
   "name": "python",
   "nbconvert_exporter": "python",
   "pygments_lexer": "ipython3",
   "version": "3.8.10"
  }
 },
 "nbformat": 4,
 "nbformat_minor": 2
}
